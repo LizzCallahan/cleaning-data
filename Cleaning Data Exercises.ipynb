{
 "cells": [
  {
   "cell_type": "markdown",
   "id": "1c5ab710",
   "metadata": {},
   "source": [
    "# Cleaning Data Exercises\n",
    "\n",
    "For the exercises, you will be cleaning data in your chosen data set. [Towards Data Science](https://towardsdatascience.com/data-cleaning-in-python-the-ultimate-guide-2020-c63b88bf0a0d) outlines the steps we should take to clean data using a different data set from Kaggle. While you should use this article as a reference, make sure not to copy paste as the two data sets are very different!\n",
    "\n",
    "To start cleaning data, we first need to create a dataframe from the CSV and print out any relevant info to make sure our dataframe is ready to go."
   ]
  },
  {
   "cell_type": "code",
   "execution_count": 1,
   "id": "da3513e0",
   "metadata": {},
   "outputs": [],
   "source": [
    "# Import pandas and any other libraries you need here. HINT: Check out the article to see what they imported to get started!\n",
    "import pandas as pd\n",
    "import numpy as np\n",
    "import seaborn as sns\n",
    "\n",
    "import matplotlib.pyplot as plt\n",
    "import matplotlib.mlab as mlab\n",
    "import matplotlib\n",
    "plt.style.use('ggplot')\n",
    "from matplotlib.pyplot import figure\n",
    "# Create a new dataframe from your CSV\n",
    "df = pd.read_csv('Womens Clothing E-Commerce Reviews.csv')"
   ]
  },
  {
   "cell_type": "code",
   "execution_count": 2,
   "id": "045387eb",
   "metadata": {},
   "outputs": [
    {
     "data": {
      "text/plain": [
       "(23486, 11)"
      ]
     },
     "execution_count": 2,
     "metadata": {},
     "output_type": "execute_result"
    }
   ],
   "source": [
    "# Print out any information you need to understand your dataframe\n",
    "df.shape"
   ]
  },
  {
   "cell_type": "code",
   "execution_count": 3,
   "id": "0e1f078e",
   "metadata": {},
   "outputs": [
    {
     "data": {
      "text/plain": [
       "Index(['Unnamed: 0', 'Clothing ID', 'Age', 'Title', 'Review Text', 'Rating',\n",
       "       'Recommended IND', 'Positive Feedback Count', 'Division Name',\n",
       "       'Department Name', 'Class Name'],\n",
       "      dtype='object')"
      ]
     },
     "execution_count": 3,
     "metadata": {},
     "output_type": "execute_result"
    }
   ],
   "source": [
    "df.columns"
   ]
  },
  {
   "cell_type": "code",
   "execution_count": 4,
   "id": "9ee981a2",
   "metadata": {},
   "outputs": [
    {
     "data": {
      "text/plain": [
       "Unnamed: 0                  int64\n",
       "Clothing ID                 int64\n",
       "Age                         int64\n",
       "Title                      object\n",
       "Review Text                object\n",
       "Rating                      int64\n",
       "Recommended IND             int64\n",
       "Positive Feedback Count     int64\n",
       "Division Name              object\n",
       "Department Name            object\n",
       "Class Name                 object\n",
       "dtype: object"
      ]
     },
     "execution_count": 4,
     "metadata": {},
     "output_type": "execute_result"
    }
   ],
   "source": [
    "df.dtypes"
   ]
  },
  {
   "cell_type": "code",
   "execution_count": 5,
   "id": "6778530f",
   "metadata": {},
   "outputs": [
    {
     "data": {
      "text/html": [
       "<div>\n",
       "<style scoped>\n",
       "    .dataframe tbody tr th:only-of-type {\n",
       "        vertical-align: middle;\n",
       "    }\n",
       "\n",
       "    .dataframe tbody tr th {\n",
       "        vertical-align: top;\n",
       "    }\n",
       "\n",
       "    .dataframe thead th {\n",
       "        text-align: right;\n",
       "    }\n",
       "</style>\n",
       "<table border=\"1\" class=\"dataframe\">\n",
       "  <thead>\n",
       "    <tr style=\"text-align: right;\">\n",
       "      <th></th>\n",
       "      <th>Unnamed: 0</th>\n",
       "      <th>Clothing ID</th>\n",
       "      <th>Age</th>\n",
       "      <th>Title</th>\n",
       "      <th>Review Text</th>\n",
       "      <th>Rating</th>\n",
       "      <th>Recommended IND</th>\n",
       "      <th>Positive Feedback Count</th>\n",
       "      <th>Division Name</th>\n",
       "      <th>Department Name</th>\n",
       "      <th>Class Name</th>\n",
       "    </tr>\n",
       "  </thead>\n",
       "  <tbody>\n",
       "    <tr>\n",
       "      <th>0</th>\n",
       "      <td>0</td>\n",
       "      <td>767</td>\n",
       "      <td>33</td>\n",
       "      <td>NaN</td>\n",
       "      <td>Absolutely wonderful - silky and sexy and comf...</td>\n",
       "      <td>4</td>\n",
       "      <td>1</td>\n",
       "      <td>0</td>\n",
       "      <td>Initmates</td>\n",
       "      <td>Intimate</td>\n",
       "      <td>Intimates</td>\n",
       "    </tr>\n",
       "    <tr>\n",
       "      <th>1</th>\n",
       "      <td>1</td>\n",
       "      <td>1080</td>\n",
       "      <td>34</td>\n",
       "      <td>NaN</td>\n",
       "      <td>Love this dress!  it's sooo pretty.  i happene...</td>\n",
       "      <td>5</td>\n",
       "      <td>1</td>\n",
       "      <td>4</td>\n",
       "      <td>General</td>\n",
       "      <td>Dresses</td>\n",
       "      <td>Dresses</td>\n",
       "    </tr>\n",
       "    <tr>\n",
       "      <th>2</th>\n",
       "      <td>2</td>\n",
       "      <td>1077</td>\n",
       "      <td>60</td>\n",
       "      <td>Some major design flaws</td>\n",
       "      <td>I had such high hopes for this dress and reall...</td>\n",
       "      <td>3</td>\n",
       "      <td>0</td>\n",
       "      <td>0</td>\n",
       "      <td>General</td>\n",
       "      <td>Dresses</td>\n",
       "      <td>Dresses</td>\n",
       "    </tr>\n",
       "    <tr>\n",
       "      <th>3</th>\n",
       "      <td>3</td>\n",
       "      <td>1049</td>\n",
       "      <td>50</td>\n",
       "      <td>My favorite buy!</td>\n",
       "      <td>I love, love, love this jumpsuit. it's fun, fl...</td>\n",
       "      <td>5</td>\n",
       "      <td>1</td>\n",
       "      <td>0</td>\n",
       "      <td>General Petite</td>\n",
       "      <td>Bottoms</td>\n",
       "      <td>Pants</td>\n",
       "    </tr>\n",
       "    <tr>\n",
       "      <th>4</th>\n",
       "      <td>4</td>\n",
       "      <td>847</td>\n",
       "      <td>47</td>\n",
       "      <td>Flattering shirt</td>\n",
       "      <td>This shirt is very flattering to all due to th...</td>\n",
       "      <td>5</td>\n",
       "      <td>1</td>\n",
       "      <td>6</td>\n",
       "      <td>General</td>\n",
       "      <td>Tops</td>\n",
       "      <td>Blouses</td>\n",
       "    </tr>\n",
       "  </tbody>\n",
       "</table>\n",
       "</div>"
      ],
      "text/plain": [
       "   Unnamed: 0  Clothing ID  Age                    Title  \\\n",
       "0           0          767   33                      NaN   \n",
       "1           1         1080   34                      NaN   \n",
       "2           2         1077   60  Some major design flaws   \n",
       "3           3         1049   50         My favorite buy!   \n",
       "4           4          847   47         Flattering shirt   \n",
       "\n",
       "                                         Review Text  Rating  Recommended IND  \\\n",
       "0  Absolutely wonderful - silky and sexy and comf...       4                1   \n",
       "1  Love this dress!  it's sooo pretty.  i happene...       5                1   \n",
       "2  I had such high hopes for this dress and reall...       3                0   \n",
       "3  I love, love, love this jumpsuit. it's fun, fl...       5                1   \n",
       "4  This shirt is very flattering to all due to th...       5                1   \n",
       "\n",
       "   Positive Feedback Count   Division Name Department Name Class Name  \n",
       "0                        0       Initmates        Intimate  Intimates  \n",
       "1                        4         General         Dresses    Dresses  \n",
       "2                        0         General         Dresses    Dresses  \n",
       "3                        0  General Petite         Bottoms      Pants  \n",
       "4                        6         General            Tops    Blouses  "
      ]
     },
     "execution_count": 5,
     "metadata": {},
     "output_type": "execute_result"
    }
   ],
   "source": [
    "df.head()"
   ]
  },
  {
   "cell_type": "code",
   "execution_count": 6,
   "id": "fed0349a",
   "metadata": {},
   "outputs": [
    {
     "data": {
      "text/html": [
       "<div>\n",
       "<style scoped>\n",
       "    .dataframe tbody tr th:only-of-type {\n",
       "        vertical-align: middle;\n",
       "    }\n",
       "\n",
       "    .dataframe tbody tr th {\n",
       "        vertical-align: top;\n",
       "    }\n",
       "\n",
       "    .dataframe thead th {\n",
       "        text-align: right;\n",
       "    }\n",
       "</style>\n",
       "<table border=\"1\" class=\"dataframe\">\n",
       "  <thead>\n",
       "    <tr style=\"text-align: right;\">\n",
       "      <th></th>\n",
       "      <th>Clothing ID</th>\n",
       "      <th>Age</th>\n",
       "      <th>Title</th>\n",
       "      <th>Review Text</th>\n",
       "      <th>Rating</th>\n",
       "      <th>Recommended IND</th>\n",
       "      <th>Positive Feedback Count</th>\n",
       "      <th>Division Name</th>\n",
       "      <th>Department Name</th>\n",
       "      <th>Class Name</th>\n",
       "    </tr>\n",
       "  </thead>\n",
       "  <tbody>\n",
       "    <tr>\n",
       "      <th>0</th>\n",
       "      <td>767</td>\n",
       "      <td>33</td>\n",
       "      <td>NaN</td>\n",
       "      <td>Absolutely wonderful - silky and sexy and comf...</td>\n",
       "      <td>4</td>\n",
       "      <td>1</td>\n",
       "      <td>0</td>\n",
       "      <td>Initmates</td>\n",
       "      <td>Intimate</td>\n",
       "      <td>Intimates</td>\n",
       "    </tr>\n",
       "    <tr>\n",
       "      <th>1</th>\n",
       "      <td>1080</td>\n",
       "      <td>34</td>\n",
       "      <td>NaN</td>\n",
       "      <td>Love this dress!  it's sooo pretty.  i happene...</td>\n",
       "      <td>5</td>\n",
       "      <td>1</td>\n",
       "      <td>4</td>\n",
       "      <td>General</td>\n",
       "      <td>Dresses</td>\n",
       "      <td>Dresses</td>\n",
       "    </tr>\n",
       "    <tr>\n",
       "      <th>2</th>\n",
       "      <td>1077</td>\n",
       "      <td>60</td>\n",
       "      <td>Some major design flaws</td>\n",
       "      <td>I had such high hopes for this dress and reall...</td>\n",
       "      <td>3</td>\n",
       "      <td>0</td>\n",
       "      <td>0</td>\n",
       "      <td>General</td>\n",
       "      <td>Dresses</td>\n",
       "      <td>Dresses</td>\n",
       "    </tr>\n",
       "    <tr>\n",
       "      <th>3</th>\n",
       "      <td>1049</td>\n",
       "      <td>50</td>\n",
       "      <td>My favorite buy!</td>\n",
       "      <td>I love, love, love this jumpsuit. it's fun, fl...</td>\n",
       "      <td>5</td>\n",
       "      <td>1</td>\n",
       "      <td>0</td>\n",
       "      <td>General Petite</td>\n",
       "      <td>Bottoms</td>\n",
       "      <td>Pants</td>\n",
       "    </tr>\n",
       "    <tr>\n",
       "      <th>4</th>\n",
       "      <td>847</td>\n",
       "      <td>47</td>\n",
       "      <td>Flattering shirt</td>\n",
       "      <td>This shirt is very flattering to all due to th...</td>\n",
       "      <td>5</td>\n",
       "      <td>1</td>\n",
       "      <td>6</td>\n",
       "      <td>General</td>\n",
       "      <td>Tops</td>\n",
       "      <td>Blouses</td>\n",
       "    </tr>\n",
       "    <tr>\n",
       "      <th>...</th>\n",
       "      <td>...</td>\n",
       "      <td>...</td>\n",
       "      <td>...</td>\n",
       "      <td>...</td>\n",
       "      <td>...</td>\n",
       "      <td>...</td>\n",
       "      <td>...</td>\n",
       "      <td>...</td>\n",
       "      <td>...</td>\n",
       "      <td>...</td>\n",
       "    </tr>\n",
       "    <tr>\n",
       "      <th>23481</th>\n",
       "      <td>1104</td>\n",
       "      <td>34</td>\n",
       "      <td>Great dress for many occasions</td>\n",
       "      <td>I was very happy to snag this dress at such a ...</td>\n",
       "      <td>5</td>\n",
       "      <td>1</td>\n",
       "      <td>0</td>\n",
       "      <td>General Petite</td>\n",
       "      <td>Dresses</td>\n",
       "      <td>Dresses</td>\n",
       "    </tr>\n",
       "    <tr>\n",
       "      <th>23482</th>\n",
       "      <td>862</td>\n",
       "      <td>48</td>\n",
       "      <td>Wish it was made of cotton</td>\n",
       "      <td>It reminds me of maternity clothes. soft, stre...</td>\n",
       "      <td>3</td>\n",
       "      <td>1</td>\n",
       "      <td>0</td>\n",
       "      <td>General Petite</td>\n",
       "      <td>Tops</td>\n",
       "      <td>Knits</td>\n",
       "    </tr>\n",
       "    <tr>\n",
       "      <th>23483</th>\n",
       "      <td>1104</td>\n",
       "      <td>31</td>\n",
       "      <td>Cute, but see through</td>\n",
       "      <td>This fit well, but the top was very see throug...</td>\n",
       "      <td>3</td>\n",
       "      <td>0</td>\n",
       "      <td>1</td>\n",
       "      <td>General Petite</td>\n",
       "      <td>Dresses</td>\n",
       "      <td>Dresses</td>\n",
       "    </tr>\n",
       "    <tr>\n",
       "      <th>23484</th>\n",
       "      <td>1084</td>\n",
       "      <td>28</td>\n",
       "      <td>Very cute dress, perfect for summer parties an...</td>\n",
       "      <td>I bought this dress for a wedding i have this ...</td>\n",
       "      <td>3</td>\n",
       "      <td>1</td>\n",
       "      <td>2</td>\n",
       "      <td>General</td>\n",
       "      <td>Dresses</td>\n",
       "      <td>Dresses</td>\n",
       "    </tr>\n",
       "    <tr>\n",
       "      <th>23485</th>\n",
       "      <td>1104</td>\n",
       "      <td>52</td>\n",
       "      <td>Please make more like this one!</td>\n",
       "      <td>This dress in a lovely platinum is feminine an...</td>\n",
       "      <td>5</td>\n",
       "      <td>1</td>\n",
       "      <td>22</td>\n",
       "      <td>General Petite</td>\n",
       "      <td>Dresses</td>\n",
       "      <td>Dresses</td>\n",
       "    </tr>\n",
       "  </tbody>\n",
       "</table>\n",
       "<p>23486 rows × 10 columns</p>\n",
       "</div>"
      ],
      "text/plain": [
       "       Clothing ID  Age                                              Title  \\\n",
       "0              767   33                                                NaN   \n",
       "1             1080   34                                                NaN   \n",
       "2             1077   60                            Some major design flaws   \n",
       "3             1049   50                                   My favorite buy!   \n",
       "4              847   47                                   Flattering shirt   \n",
       "...            ...  ...                                                ...   \n",
       "23481         1104   34                     Great dress for many occasions   \n",
       "23482          862   48                         Wish it was made of cotton   \n",
       "23483         1104   31                              Cute, but see through   \n",
       "23484         1084   28  Very cute dress, perfect for summer parties an...   \n",
       "23485         1104   52                    Please make more like this one!   \n",
       "\n",
       "                                             Review Text  Rating  \\\n",
       "0      Absolutely wonderful - silky and sexy and comf...       4   \n",
       "1      Love this dress!  it's sooo pretty.  i happene...       5   \n",
       "2      I had such high hopes for this dress and reall...       3   \n",
       "3      I love, love, love this jumpsuit. it's fun, fl...       5   \n",
       "4      This shirt is very flattering to all due to th...       5   \n",
       "...                                                  ...     ...   \n",
       "23481  I was very happy to snag this dress at such a ...       5   \n",
       "23482  It reminds me of maternity clothes. soft, stre...       3   \n",
       "23483  This fit well, but the top was very see throug...       3   \n",
       "23484  I bought this dress for a wedding i have this ...       3   \n",
       "23485  This dress in a lovely platinum is feminine an...       5   \n",
       "\n",
       "       Recommended IND  Positive Feedback Count   Division Name  \\\n",
       "0                    1                        0       Initmates   \n",
       "1                    1                        4         General   \n",
       "2                    0                        0         General   \n",
       "3                    1                        0  General Petite   \n",
       "4                    1                        6         General   \n",
       "...                ...                      ...             ...   \n",
       "23481                1                        0  General Petite   \n",
       "23482                1                        0  General Petite   \n",
       "23483                0                        1  General Petite   \n",
       "23484                1                        2         General   \n",
       "23485                1                       22  General Petite   \n",
       "\n",
       "      Department Name Class Name  \n",
       "0            Intimate  Intimates  \n",
       "1             Dresses    Dresses  \n",
       "2             Dresses    Dresses  \n",
       "3             Bottoms      Pants  \n",
       "4                Tops    Blouses  \n",
       "...               ...        ...  \n",
       "23481         Dresses    Dresses  \n",
       "23482            Tops      Knits  \n",
       "23483         Dresses    Dresses  \n",
       "23484         Dresses    Dresses  \n",
       "23485         Dresses    Dresses  \n",
       "\n",
       "[23486 rows x 10 columns]"
      ]
     },
     "execution_count": 6,
     "metadata": {},
     "output_type": "execute_result"
    }
   ],
   "source": [
    "df.drop(columns=['Unnamed: 0'])"
   ]
  },
  {
   "cell_type": "code",
   "execution_count": null,
   "id": "dc7c5c7a",
   "metadata": {
    "scrolled": true
   },
   "outputs": [],
   "source": []
  },
  {
   "cell_type": "markdown",
   "id": "81717993",
   "metadata": {},
   "source": [
    "Now you have a dataframe set up, you are ready to dive in and start cleaning!"
   ]
  },
  {
   "cell_type": "markdown",
   "id": "303aee35",
   "metadata": {},
   "source": [
    "## Missing Data\n",
    "\n",
    "In the Towards Data Science article, they list 3 techniques for detecting any missing data frame. Try all three before deciding on a way to solve any missing data issues."
   ]
  },
  {
   "cell_type": "code",
   "execution_count": 7,
   "id": "68fd548c",
   "metadata": {},
   "outputs": [
    {
     "data": {
      "text/plain": [
       "<AxesSubplot:>"
      ]
     },
     "execution_count": 7,
     "metadata": {},
     "output_type": "execute_result"
    },
    {
     "data": {
      "image/png": "[encoded data removed]",
      "text/plain": [
       "<Figure size 432x288 with 2 Axes>"
      ]
     },
     "metadata": {},
     "output_type": "display_data"
    }
   ],
   "source": [
    "# Plot a heatmap of any missing data\n",
    "colours = ['#BBEDF2', '#A62AE0'] # specify the colours - yellow is missing. blue is not missing. \n",
    "sns.heatmap(df.isnull(), cmap=sns.color_palette(colours))"
   ]
  },
  {
   "cell_type": "code",
   "execution_count": 8,
   "id": "0ae37b5d",
   "metadata": {},
   "outputs": [
    {
     "name": "stdout",
     "output_type": "stream",
     "text": [
      "Title - 16%\n",
      "Review Text - 4%\n",
      "Division Name - 0%\n",
      "Department Name - 0%\n",
      "Class Name - 0%\n"
     ]
    }
   ],
   "source": [
    "# Try out a missing data percentage list! \n",
    "for col in df.columns:\n",
    "    pct_missing = np.mean(df[col].isnull())\n",
    "    if pct_missing > 0:\n",
    "        print(f'{col} - {round(pct_missing*100)}%')"
   ]
  },
  {
   "cell_type": "code",
   "execution_count": 9,
   "id": "51c62f02",
   "metadata": {},
   "outputs": [
    {
     "data": {
      "text/plain": [
       "<AxesSubplot:xlabel='index'>"
      ]
     },
     "execution_count": 9,
     "metadata": {},
     "output_type": "execute_result"
    },
    {
     "data": {
      "image/png": "[encoded data removed]",
      "text/plain": [
       "<Figure size 432x288 with 1 Axes>"
      ]
     },
     "metadata": {},
     "output_type": "display_data"
    }
   ],
   "source": [
    "# Plot a missing data histogram\n",
    "for col in df.columns:\n",
    "    missing = df[col].isnull()\n",
    "    num_missing = np.sum(missing)\n",
    "    \n",
    "    if num_missing > 0:  \n",
    "        df['{}_ismissing'.format(col)] = missing\n",
    "\n",
    "\n",
    "# then based on the indicator, plot the histogram of missing values\n",
    "ismissing_cols = [col for col in df.columns if 'ismissing' in col]\n",
    "df['num_missing'] = df[ismissing_cols].sum(axis=1)\n",
    "\n",
    "df['num_missing'].value_counts().reset_index().sort_values(by='index').plot.bar(x='index', y='num_missing')"
   ]
  },
  {
   "cell_type": "markdown",
   "id": "5e791fbe",
   "metadata": {},
   "source": [
    "Now that you have tried all 3 techniques for detecting missing data, did you find any? Reading through the article, which solution do you think will help you clean the data set and handle the missing data? Try out your solution below!"
   ]
  },
  {
   "cell_type": "code",
   "execution_count": 34,
   "id": "53c2d34c",
   "metadata": {},
   "outputs": [],
   "source": [
    "# Handle any missing data in your dataframe.\n",
    "'''I chose to remove entries missing both review and title. \n",
    "These entries aren't useful for Natural Language processing, \n",
    "and that's what the Kaggle seemed to want. In other analysis, \n",
    "it might not be worth dropping those rows, as the other data \n",
    "could still be useful.'''\n",
    "review_missing = df[df['num_missing']==2].index\n",
    "df = df.drop(review_missing, axis=0)"
   ]
  },
  {
   "cell_type": "markdown",
   "id": "be2121df",
   "metadata": {},
   "source": [
    "## Irregular Data\n",
    "\n",
    "With missing data out of the way, turn your attention to any outliers. Just as we did for missing data, we first need to detect the outliers. The article outlines the top techniques for finding outliers in a dataset."
   ]
  },
  {
   "cell_type": "code",
   "execution_count": 36,
   "id": "3a4f2cff",
   "metadata": {},
   "outputs": [
    {
     "data": {
      "text/plain": [
       "<AxesSubplot:>"
      ]
     },
     "execution_count": 36,
     "metadata": {},
     "output_type": "execute_result"
    },
    {
     "data": {
      "image/png": "[encoded data removed]",
      "text/plain": [
       "<Figure size 432x288 with 1 Axes>"
      ]
     },
     "metadata": {},
     "output_type": "display_data"
    }
   ],
   "source": [
    "# Plot a histogram to see if there are any outliers.\n",
    "df['Rating'].hist() "
   ]
  },
  {
   "cell_type": "code",
   "execution_count": 37,
   "id": "30a97635",
   "metadata": {},
   "outputs": [
    {
     "data": {
      "text/plain": [
       "<AxesSubplot:>"
      ]
     },
     "execution_count": 37,
     "metadata": {},
     "output_type": "execute_result"
    },
    {
     "data": {
      "image/png": "[encoded data removed]",
      "text/plain": [
       "<Figure size 432x288 with 1 Axes>"
      ]
     },
     "metadata": {},
     "output_type": "display_data"
    }
   ],
   "source": [
    "df['Recommended IND'].hist() #Check for non 1 or 0"
   ]
  },
  {
   "cell_type": "code",
   "execution_count": 38,
   "id": "e8d03c09",
   "metadata": {
    "scrolled": true
   },
   "outputs": [
    {
     "data": {
      "text/plain": [
       "<AxesSubplot:>"
      ]
     },
     "execution_count": 38,
     "metadata": {},
     "output_type": "execute_result"
    },
    {
     "data": {
      "image/png": "[encoded data removed]",
      "text/plain": [
       "<Figure size 432x288 with 1 Axes>"
      ]
     },
     "metadata": {},
     "output_type": "display_data"
    }
   ],
   "source": [
    "df['Age'].hist() "
   ]
  },
  {
   "cell_type": "code",
   "execution_count": 39,
   "id": "ae9008bb",
   "metadata": {},
   "outputs": [
    {
     "data": {
      "text/plain": [
       "count    22643.000000\n",
       "mean        43.279998\n",
       "std         12.326791\n",
       "min         18.000000\n",
       "25%         34.000000\n",
       "50%         41.000000\n",
       "75%         52.000000\n",
       "max         99.000000\n",
       "Name: Age, dtype: float64"
      ]
     },
     "execution_count": 39,
     "metadata": {},
     "output_type": "execute_result"
    }
   ],
   "source": [
    "# Use the describe() method\n",
    "df['Age'].describe()"
   ]
  },
  {
   "cell_type": "code",
   "execution_count": 40,
   "id": "4af44edf",
   "metadata": {
    "scrolled": false
   },
   "outputs": [
    {
     "data": {
      "text/plain": [
       "<AxesSubplot:>"
      ]
     },
     "execution_count": 40,
     "metadata": {},
     "output_type": "execute_result"
    },
    {
     "data": {
      "image/png": "[encoded data removed]",
      "text/plain": [
       "<Figure size 432x288 with 1 Axes>"
      ]
     },
     "metadata": {},
     "output_type": "display_data"
    }
   ],
   "source": [
    "# Plot a bar chart\n",
    "df['Class Name'].value_counts().plot.bar()"
   ]
  },
  {
   "cell_type": "code",
   "execution_count": 48,
   "id": "691233b6",
   "metadata": {},
   "outputs": [
    {
     "data": {
      "text/plain": [
       "Dresses       6146\n",
       "Knits         4626\n",
       "Blouses       2983\n",
       "Sweaters      1380\n",
       "Pants         1350\n",
       "Jeans         1104\n",
       "Fine gauge    1059\n",
       "Skirts         903\n",
       "Jackets        683\n",
       "Lounge         669\n",
       "Swim           332\n",
       "Outerwear      319\n",
       "Shorts         304\n",
       "Sleep          214\n",
       "Legwear        158\n",
       "Intimates      147\n",
       "Layering       132\n",
       "Trend          118\n",
       "Name: Class Name, dtype: int64"
      ]
     },
     "execution_count": 48,
     "metadata": {},
     "output_type": "execute_result"
    }
   ],
   "source": [
    "df['Class Name'].value_counts()"
   ]
  },
  {
   "cell_type": "code",
   "execution_count": 42,
   "id": "8dc5ffc5",
   "metadata": {
    "scrolled": true
   },
   "outputs": [
    {
     "data": {
      "text/plain": [
       "<AxesSubplot:>"
      ]
     },
     "execution_count": 42,
     "metadata": {},
     "output_type": "execute_result"
    },
    {
     "data": {
      "image/png": "[encoded data removed]",
      "text/plain": [
       "<Figure size 432x288 with 1 Axes>"
      ]
     },
     "metadata": {},
     "output_type": "display_data"
    }
   ],
   "source": [
    "df['Department Name'].value_counts().plot.bar()"
   ]
  },
  {
   "cell_type": "code",
   "execution_count": 43,
   "id": "5f430043",
   "metadata": {},
   "outputs": [
    {
     "data": {
      "text/plain": [
       "Tops        10048\n",
       "Dresses      6146\n",
       "Bottoms      3662\n",
       "Intimate     1653\n",
       "Jackets      1002\n",
       "Trend         118\n",
       "Name: Department Name, dtype: int64"
      ]
     },
     "execution_count": 43,
     "metadata": {},
     "output_type": "execute_result"
    }
   ],
   "source": [
    "df['Department Name'].value_counts()"
   ]
  },
  {
   "cell_type": "markdown",
   "id": "da8d6080",
   "metadata": {},
   "source": [
    "Which of the three techniques helped you find any outliers? Now that you have found outliers, what will you do to solve the problem?"
   ]
  },
  {
   "cell_type": "code",
   "execution_count": 47,
   "id": "3ee7d694",
   "metadata": {},
   "outputs": [],
   "source": [
    "# Handle any outliers in your dataframe \n",
    "# Chemises and casual bottoms are such a small sample. I'm removing them.\n",
    "review_missing = df[df['Class Name']=='Casual bottoms'].index\n",
    "df = df.drop(review_missing, axis=0)\n",
    "review_missing = df[df['Class Name']=='Chemises'].index\n",
    "df = df.drop(review_missing, axis=0)"
   ]
  },
  {
   "cell_type": "markdown",
   "id": "c802522d",
   "metadata": {},
   "source": [
    "## Unnecessary Data\n",
    "\n",
    "Unnecessary data could be duplicates, irrelevant, or any uninformative data. Dive into each type of unnecessary data to see if there is any in the data set. Make sure to make note of how you would handle each type of unnecessary data."
   ]
  },
  {
   "cell_type": "code",
   "execution_count": 49,
   "id": "8de40f50",
   "metadata": {},
   "outputs": [
    {
     "data": {
      "text/plain": [
       "Index(['Unnamed: 0', 'Clothing ID', 'Age', 'Title', 'Review Text', 'Rating',\n",
       "       'Recommended IND', 'Positive Feedback Count', 'Division Name',\n",
       "       'Department Name', 'Class Name', 'Title_ismissing',\n",
       "       'Review Text_ismissing', 'Division Name_ismissing',\n",
       "       'Department Name_ismissing', 'Class Name_ismissing', 'num_missing'],\n",
       "      dtype='object')"
      ]
     },
     "execution_count": 49,
     "metadata": {},
     "output_type": "execute_result"
    }
   ],
   "source": [
    "# Look for any irrelevant data in the dataframe. How will you handle it?\n",
    "# You could drop the missing columns that were added above.\n",
    "df.columns"
   ]
  },
  {
   "cell_type": "code",
   "execution_count": 54,
   "id": "e3f92845",
   "metadata": {},
   "outputs": [],
   "source": [
    "df = df.drop(columns=['Unnamed: 0','Title_ismissing','Review Text_ismissing', 'Division Name_ismissing','Department Name_ismissing', 'Class Name_ismissing', 'num_missing'])"
   ]
  },
  {
   "cell_type": "code",
   "execution_count": 55,
   "id": "888b49f1",
   "metadata": {},
   "outputs": [],
   "source": [
    "# Look for duplicates. How will you handle any duplicates?\n",
    "# Dropped duplicates with matching Review Text, since those are more likely to be spam\n",
    "df = df.drop_duplicates (subset=['Review Text'])"
   ]
  },
  {
   "cell_type": "code",
   "execution_count": 56,
   "id": "4bf95b39",
   "metadata": {},
   "outputs": [
    {
     "data": {
      "text/plain": [
       "(22633, 10)"
      ]
     },
     "execution_count": 56,
     "metadata": {},
     "output_type": "execute_result"
    }
   ],
   "source": [
    "df.shape"
   ]
  },
  {
   "cell_type": "code",
   "execution_count": 17,
   "id": "cbd6ee14",
   "metadata": {},
   "outputs": [],
   "source": [
    "# Think about what data in the dataframe may be uninformative. Make note here of what situations may render data uninformative and how you would handle it?\n",
    "# Depending on the analysis needs, all collumns seem potentially relevent. \n",
    "#If looking for straight statistical analysis, the review and title texts may be droppable.\n",
    "# If doing sentiment analysis, age seems irrelevant.\n",
    "# Recommended IND may not give much extra information. But maybe.\n",
    "#Positive Feedback may be useful in picking reviews to look at directly, but since the feedback is on the comment, not the product, it could be dropped for other analysis."
   ]
  },
  {
   "cell_type": "markdown",
   "id": "bdcad93a",
   "metadata": {},
   "source": [
    "## Inconsistent Data\n",
    "\n",
    "Inconsistent data is anything that messes with your model. This is likely due to inconsistent formatting and can be addressed by re-formatting all values in a column or row."
   ]
  },
  {
   "cell_type": "code",
   "execution_count": 60,
   "id": "4fc6bbb7",
   "metadata": {},
   "outputs": [],
   "source": [
    "# Try to convert all the strings in a column to lower or upper case. \n",
    "df['Review Text'] = df['Review Text'].str.lower()"
   ]
  },
  {
   "cell_type": "code",
   "execution_count": 61,
   "id": "7324c7b6",
   "metadata": {},
   "outputs": [],
   "source": [
    "df['Review Text'] = df['Review Text'].str.strip()"
   ]
  },
  {
   "cell_type": "code",
   "execution_count": 63,
   "id": "a365e542",
   "metadata": {},
   "outputs": [],
   "source": [
    "df['Review Text'] = df['Review Text'].str.replace('\\\\.', '', regex=True)"
   ]
  },
  {
   "cell_type": "code",
   "execution_count": 65,
   "id": "a89fd6e7",
   "metadata": {},
   "outputs": [],
   "source": [
    "df['Review Text'] = df['Review Text'].str.replace('\\\\,', '', regex=True)"
   ]
  },
  {
   "cell_type": "code",
   "execution_count": 67,
   "id": "bec4b126",
   "metadata": {},
   "outputs": [],
   "source": [
    "df['Review Text'] = df['Review Text'].str.replace('\\\\-', '', regex=True)"
   ]
  },
  {
   "cell_type": "code",
   "execution_count": 69,
   "id": "372e67fa",
   "metadata": {},
   "outputs": [],
   "source": [
    "df['Review Text'] = df['Review Text'].str.replace('\\\\!', '', regex=True)"
   ]
  },
  {
   "cell_type": "code",
   "execution_count": 70,
   "id": "08ca8bad",
   "metadata": {},
   "outputs": [
    {
     "data": {
      "text/plain": [
       "0        absolutely wonderful  silky and sexy and comfo...\n",
       "1        love this dress  it's sooo pretty  i happened ...\n",
       "2        i had such high hopes for this dress and reall...\n",
       "3        i love love love this jumpsuit it's fun flirty...\n",
       "4        this shirt is very flattering to all due to th...\n",
       "                               ...                        \n",
       "23481    i was very happy to snag this dress at such a ...\n",
       "23482    it reminds me of maternity clothes soft stretc...\n",
       "23483    this fit well but the top was very see through...\n",
       "23484    i bought this dress for a wedding i have this ...\n",
       "23485    this dress in a lovely platinum is feminine an...\n",
       "Name: Review Text, Length: 22633, dtype: object"
      ]
     },
     "execution_count": 70,
     "metadata": {},
     "output_type": "execute_result"
    }
   ],
   "source": [
    "df['Review Text']"
   ]
  },
  {
   "cell_type": "code",
   "execution_count": 72,
   "id": "0e1a295c",
   "metadata": {},
   "outputs": [],
   "source": [
    "# Drop duplicates once formatting is stripped. Drops 1 duplicate.\n",
    "df = df.drop_duplicates (subset=['Review Text'])"
   ]
  },
  {
   "cell_type": "code",
   "execution_count": 76,
   "id": "818e153c",
   "metadata": {},
   "outputs": [],
   "source": [
    "# Find edit distance to look for very similar reviews that may indicate spam.\n",
    "from nltk.metrics import edit_distance"
   ]
  },
  {
   "cell_type": "code",
   "execution_count": 81,
   "id": "c4ef6ec2",
   "metadata": {},
   "outputs": [
    {
     "data": {
      "text/html": [
       "<div>\n",
       "<style scoped>\n",
       "    .dataframe tbody tr th:only-of-type {\n",
       "        vertical-align: middle;\n",
       "    }\n",
       "\n",
       "    .dataframe tbody tr th {\n",
       "        vertical-align: top;\n",
       "    }\n",
       "\n",
       "    .dataframe thead th {\n",
       "        text-align: right;\n",
       "    }\n",
       "</style>\n",
       "<table border=\"1\" class=\"dataframe\">\n",
       "  <thead>\n",
       "    <tr style=\"text-align: right;\">\n",
       "      <th></th>\n",
       "      <th>x</th>\n",
       "      <th>y</th>\n",
       "      <th>distance</th>\n",
       "      <th>text1</th>\n",
       "      <th>text2</th>\n",
       "    </tr>\n",
       "  </thead>\n",
       "  <tbody>\n",
       "    <tr>\n",
       "      <th>0</th>\n",
       "      <td>0</td>\n",
       "      <td>1</td>\n",
       "      <td>261</td>\n",
       "      <td>absolutely wonderful  silky and sexy and comfo...</td>\n",
       "      <td>love this dress  it's sooo pretty  i happened ...</td>\n",
       "    </tr>\n",
       "    <tr>\n",
       "      <th>1</th>\n",
       "      <td>0</td>\n",
       "      <td>2</td>\n",
       "      <td>446</td>\n",
       "      <td>absolutely wonderful  silky and sexy and comfo...</td>\n",
       "      <td>i had such high hopes for this dress and reall...</td>\n",
       "    </tr>\n",
       "    <tr>\n",
       "      <th>2</th>\n",
       "      <td>0</td>\n",
       "      <td>3</td>\n",
       "      <td>90</td>\n",
       "      <td>absolutely wonderful  silky and sexy and comfo...</td>\n",
       "      <td>i love love love this jumpsuit it's fun flirty...</td>\n",
       "    </tr>\n",
       "    <tr>\n",
       "      <th>3</th>\n",
       "      <td>0</td>\n",
       "      <td>4</td>\n",
       "      <td>155</td>\n",
       "      <td>absolutely wonderful  silky and sexy and comfo...</td>\n",
       "      <td>this shirt is very flattering to all due to th...</td>\n",
       "    </tr>\n",
       "    <tr>\n",
       "      <th>4</th>\n",
       "      <td>0</td>\n",
       "      <td>5</td>\n",
       "      <td>434</td>\n",
       "      <td>absolutely wonderful  silky and sexy and comfo...</td>\n",
       "      <td>i love tracy reese dresses but this one is not...</td>\n",
       "    </tr>\n",
       "  </tbody>\n",
       "</table>\n",
       "</div>"
      ],
      "text/plain": [
       "   x  y  distance                                              text1  \\\n",
       "0  0  1       261  absolutely wonderful  silky and sexy and comfo...   \n",
       "1  0  2       446  absolutely wonderful  silky and sexy and comfo...   \n",
       "2  0  3        90  absolutely wonderful  silky and sexy and comfo...   \n",
       "3  0  4       155  absolutely wonderful  silky and sexy and comfo...   \n",
       "4  0  5       434  absolutely wonderful  silky and sexy and comfo...   \n",
       "\n",
       "                                               text2  \n",
       "0  love this dress  it's sooo pretty  i happened ...  \n",
       "1  i had such high hopes for this dress and reall...  \n",
       "2  i love love love this jumpsuit it's fun flirty...  \n",
       "3  this shirt is very flattering to all due to th...  \n",
       "4  i love tracy reese dresses but this one is not...  "
      ]
     },
     "execution_count": 81,
     "metadata": {},
     "output_type": "execute_result"
    }
   ],
   "source": [
    "editdis = []\n",
    "for x, itemx in enumerate(df['Review Text'][0:100]):\n",
    "    for y, itemy in enumerate(df['Review Text'][0:100]):\n",
    "        if x < y:\n",
    "            distance = edit_distance(str(itemx),str(itemy))\n",
    "            dictionary = {'x': x, 'y': y, 'distance':distance, 'text1':itemx, 'text2':itemy}\n",
    "            editdis.append(dictionary)\n",
    "distance_df = pd.DataFrame(editdis)\n",
    "distance_df.head()"
   ]
  },
  {
   "cell_type": "code",
   "execution_count": 82,
   "id": "741e46d2",
   "metadata": {},
   "outputs": [
    {
     "data": {
      "text/html": [
       "<div>\n",
       "<style scoped>\n",
       "    .dataframe tbody tr th:only-of-type {\n",
       "        vertical-align: middle;\n",
       "    }\n",
       "\n",
       "    .dataframe tbody tr th {\n",
       "        vertical-align: top;\n",
       "    }\n",
       "\n",
       "    .dataframe thead th {\n",
       "        text-align: right;\n",
       "    }\n",
       "</style>\n",
       "<table border=\"1\" class=\"dataframe\">\n",
       "  <thead>\n",
       "    <tr style=\"text-align: right;\">\n",
       "      <th></th>\n",
       "      <th>x</th>\n",
       "      <th>y</th>\n",
       "      <th>distance</th>\n",
       "      <th>text1</th>\n",
       "      <th>text2</th>\n",
       "    </tr>\n",
       "  </thead>\n",
       "  <tbody>\n",
       "    <tr>\n",
       "      <th>3833</th>\n",
       "      <td>52</td>\n",
       "      <td>64</td>\n",
       "      <td>34</td>\n",
       "      <td>love the color and style but material snags ea...</td>\n",
       "      <td>loved this top and was really happy to find it...</td>\n",
       "    </tr>\n",
       "    <tr>\n",
       "      <th>4336</th>\n",
       "      <td>64</td>\n",
       "      <td>81</td>\n",
       "      <td>37</td>\n",
       "      <td>loved this top and was really happy to find it...</td>\n",
       "      <td>loved this top great design comfortable and un...</td>\n",
       "    </tr>\n",
       "    <tr>\n",
       "      <th>10</th>\n",
       "      <td>0</td>\n",
       "      <td>11</td>\n",
       "      <td>39</td>\n",
       "      <td>absolutely wonderful  silky and sexy and comfo...</td>\n",
       "      <td>this dress is perfection so pretty and flattering</td>\n",
       "    </tr>\n",
       "    <tr>\n",
       "      <th>63</th>\n",
       "      <td>0</td>\n",
       "      <td>64</td>\n",
       "      <td>40</td>\n",
       "      <td>absolutely wonderful  silky and sexy and comfo...</td>\n",
       "      <td>loved this top and was really happy to find it...</td>\n",
       "    </tr>\n",
       "    <tr>\n",
       "      <th>1074</th>\n",
       "      <td>11</td>\n",
       "      <td>52</td>\n",
       "      <td>41</td>\n",
       "      <td>this dress is perfection so pretty and flattering</td>\n",
       "      <td>love the color and style but material snags ea...</td>\n",
       "    </tr>\n",
       "    <tr>\n",
       "      <th>...</th>\n",
       "      <td>...</td>\n",
       "      <td>...</td>\n",
       "      <td>...</td>\n",
       "      <td>...</td>\n",
       "      <td>...</td>\n",
       "    </tr>\n",
       "    <tr>\n",
       "      <th>13</th>\n",
       "      <td>0</td>\n",
       "      <td>14</td>\n",
       "      <td>451</td>\n",
       "      <td>absolutely wonderful  silky and sexy and comfo...</td>\n",
       "      <td>this is a nice choice for holiday gatherings i...</td>\n",
       "    </tr>\n",
       "    <tr>\n",
       "      <th>3843</th>\n",
       "      <td>52</td>\n",
       "      <td>74</td>\n",
       "      <td>452</td>\n",
       "      <td>love the color and style but material snags ea...</td>\n",
       "      <td>i passed up this dress so many times in the st...</td>\n",
       "    </tr>\n",
       "    <tr>\n",
       "      <th>1048</th>\n",
       "      <td>11</td>\n",
       "      <td>26</td>\n",
       "      <td>452</td>\n",
       "      <td>this dress is perfection so pretty and flattering</td>\n",
       "      <td>i have been waiting for this sweater coat to s...</td>\n",
       "    </tr>\n",
       "    <tr>\n",
       "      <th>2274</th>\n",
       "      <td>26</td>\n",
       "      <td>52</td>\n",
       "      <td>452</td>\n",
       "      <td>i have been waiting for this sweater coat to s...</td>\n",
       "      <td>love the color and style but material snags ea...</td>\n",
       "    </tr>\n",
       "    <tr>\n",
       "      <th>25</th>\n",
       "      <td>0</td>\n",
       "      <td>26</td>\n",
       "      <td>453</td>\n",
       "      <td>absolutely wonderful  silky and sexy and comfo...</td>\n",
       "      <td>i have been waiting for this sweater coat to s...</td>\n",
       "    </tr>\n",
       "  </tbody>\n",
       "</table>\n",
       "<p>4950 rows × 5 columns</p>\n",
       "</div>"
      ],
      "text/plain": [
       "       x   y  distance                                              text1  \\\n",
       "3833  52  64        34  love the color and style but material snags ea...   \n",
       "4336  64  81        37  loved this top and was really happy to find it...   \n",
       "10     0  11        39  absolutely wonderful  silky and sexy and comfo...   \n",
       "63     0  64        40  absolutely wonderful  silky and sexy and comfo...   \n",
       "1074  11  52        41  this dress is perfection so pretty and flattering   \n",
       "...   ..  ..       ...                                                ...   \n",
       "13     0  14       451  absolutely wonderful  silky and sexy and comfo...   \n",
       "3843  52  74       452  love the color and style but material snags ea...   \n",
       "1048  11  26       452  this dress is perfection so pretty and flattering   \n",
       "2274  26  52       452  i have been waiting for this sweater coat to s...   \n",
       "25     0  26       453  absolutely wonderful  silky and sexy and comfo...   \n",
       "\n",
       "                                                  text2  \n",
       "3833  loved this top and was really happy to find it...  \n",
       "4336  loved this top great design comfortable and un...  \n",
       "10    this dress is perfection so pretty and flattering  \n",
       "63    loved this top and was really happy to find it...  \n",
       "1074  love the color and style but material snags ea...  \n",
       "...                                                 ...  \n",
       "13    this is a nice choice for holiday gatherings i...  \n",
       "3843  i passed up this dress so many times in the st...  \n",
       "1048  i have been waiting for this sweater coat to s...  \n",
       "2274  love the color and style but material snags ea...  \n",
       "25    i have been waiting for this sweater coat to s...  \n",
       "\n",
       "[4950 rows x 5 columns]"
      ]
     },
     "execution_count": 82,
     "metadata": {},
     "output_type": "execute_result"
    }
   ],
   "source": [
    "distance_df.sort_values('distance')"
   ]
  },
  {
   "cell_type": "code",
   "execution_count": 84,
   "id": "201299f2",
   "metadata": {},
   "outputs": [],
   "source": [
    "distance_df.to_csv('distance_df.csv')"
   ]
  },
  {
   "cell_type": "code",
   "execution_count": null,
   "id": "29c0817c",
   "metadata": {},
   "outputs": [],
   "source": []
  }
 ],
 "metadata": {
  "kernelspec": {
   "display_name": "Python 3 (ipykernel)",
   "language": "python",
   "name": "python3"
  },
  "language_info": {
   "codemirror_mode": {
    "name": "ipython",
    "version": 3
   },
   "file_extension": ".py",
   "mimetype": "text/x-python",
   "name": "python",
   "nbconvert_exporter": "python",
   "pygments_lexer": "ipython3",
   "version": "3.9.7"
  }
 },
 "nbformat": 4,
 "nbformat_minor": 5
}
